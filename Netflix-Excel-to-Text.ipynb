{
 "cells": [
  {
   "cell_type": "markdown",
   "id": "96ff32f0",
   "metadata": {},
   "source": [
    "# Netflix - Save Excel Spreadsheet to Text File"
   ]
  },
  {
   "cell_type": "markdown",
   "id": "ec5bb731",
   "metadata": {},
   "source": [
    "# Read Data from Spreadsheet"
   ]
  },
  {
   "cell_type": "code",
   "execution_count": 37,
   "id": "ebfd7cd2",
   "metadata": {},
   "outputs": [],
   "source": [
    "import pandas as pd\n",
    "import numpy as np\n",
    "\n",
    "df = pd.read_excel(r'Netflix.xlsx')\n",
    "\n",
    "df['date_added']= pd.to_datetime(df['date_added'])\n",
    "\n",
    "#print(df)\n",
    "#df.dtypes"
   ]
  },
  {
   "cell_type": "markdown",
   "id": "09bc04bb",
   "metadata": {},
   "source": [
    "# Format Data"
   ]
  },
  {
   "cell_type": "code",
   "execution_count": 38,
   "id": "a88dbf61",
   "metadata": {},
   "outputs": [],
   "source": [
    "#ID - Remove S and add Leading Zeroes\n",
    "df['show_id'] = df['show_id'].str.replace('s', '')\n",
    "df['show_id'] = df['show_id'].apply('{:0>6}'.format)\n",
    "\n",
    "#Format Date to YYYY-MM-DD\n",
    "df[\"date_added\"] = pd.to_datetime(df[\"date_added\"]).dt.strftime('%Y-%m-%d')\n",
    "\n",
    "#Convert Type to Upper Case\n",
    "df['type'] = df['type'].astype(str).str.upper()\n",
    "\n",
    "#Remove any characters over the limit\n",
    "df['title'] = df['title'].str[:80]\n",
    "df['listed_in'] = df['listed_in'].str[:75]\n",
    "df['duration'] = df['duration'].str[:10]\n",
    "df['rating'] = df['rating'].str[:5]\n",
    "df['country'] = df['country'].str[:20]\n",
    "\n",
    "#print(df)"
   ]
  },
  {
   "cell_type": "markdown",
   "id": "73bc0460",
   "metadata": {},
   "source": [
    "# Split into 2 Dataframe's by Type (Movie & TV Show)"
   ]
  },
  {
   "cell_type": "code",
   "execution_count": 39,
   "id": "ab4b92f2",
   "metadata": {},
   "outputs": [],
   "source": [
    "df_movies = df[df['type'] == 'MOVIE']\n",
    "df_tvshows = df[df['type'] == 'TV SHOW'] "
   ]
  },
  {
   "cell_type": "markdown",
   "id": "0e440ca4",
   "metadata": {},
   "source": [
    "# Save Data to Text File"
   ]
  },
  {
   "cell_type": "code",
   "execution_count": 40,
   "id": "5429378c",
   "metadata": {},
   "outputs": [],
   "source": [
    "#File Name\n",
    "moviefilename = \"Netflix-Movies.txt\"\n",
    "tvfilename = \"Netflix-TVShows.txt\"\n",
    "\n",
    "#Save Dataframe to File\n",
    "np.savetxt(moviefilename, df_movies.values, fmt='%-7s%-8s%-81s%-20s%-11s%-5s%-6s%-11s%-75s')\n",
    "np.savetxt(tvfilename, df_tvshows.values, fmt='%-7s%-8s%-81s%-20s%-11s%-5s%-6s%-11s%-75s')"
   ]
  },
  {
   "cell_type": "code",
   "execution_count": null,
   "id": "be01a9e4",
   "metadata": {},
   "outputs": [],
   "source": []
  }
 ],
 "metadata": {
  "kernelspec": {
   "display_name": "Python 3 (ipykernel)",
   "language": "python",
   "name": "python3"
  },
  "language_info": {
   "codemirror_mode": {
    "name": "ipython",
    "version": 3
   },
   "file_extension": ".py",
   "mimetype": "text/x-python",
   "name": "python",
   "nbconvert_exporter": "python",
   "pygments_lexer": "ipython3",
   "version": "3.11.4"
  }
 },
 "nbformat": 4,
 "nbformat_minor": 5
}
